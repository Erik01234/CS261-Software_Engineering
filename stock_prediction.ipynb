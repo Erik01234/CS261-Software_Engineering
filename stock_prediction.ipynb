{
 "cells": [
  {
   "cell_type": "code",
   "execution_count": 1,
   "metadata": {},
   "outputs": [
    {
     "name": "stdout",
     "output_type": "stream",
     "text": [
      "Data fetched successfully.\n"
     ]
    }
   ],
   "source": [
    "import requests\n",
    "import pandas as pd\n",
    "\n",
    "API_KEY = 'QC6PHJMTIZHC8S6B'  # Replace with your actual AlphaVantage API key\n",
    "SYMBOL = 'COST'\n",
    "\n",
    "url = f'https://www.alphavantage.co/query?function=TIME_SERIES_DAILY_ADJUSTED&symbol={SYMBOL}&outputsize=full&apikey={API_KEY}'\n",
    "\n",
    "response = requests.get(url)\n",
    "data = response.json()\n",
    "\n",
    "if 'Time Series (Daily)' in data:\n",
    "    print(\"Data fetched successfully.\")\n",
    "else:\n",
    "    print(\"Failed to fetch data. Check the API key and symbol.\")\n",
    "    exit()\n",
    "\n",
    "time_series_data = data['Time Series (Daily)']\n",
    "\n",
    "# Initialize an empty DataFrame with the desired columns\n",
    "df = pd.DataFrame(columns=['Date', 'Open', 'High', 'Low', 'Close', 'Adjusted Close', 'Volume'])\n",
    "\n",
    "# Create a list to hold row data before converting it to a DataFrame\n",
    "rows_list = []\n",
    "\n",
    "for date, daily_data in time_series_data.items():\n",
    "    row = {\n",
    "        'Date': date,\n",
    "        'Open': daily_data['1. open'],\n",
    "        'High': daily_data['2. high'],\n",
    "        'Low': daily_data['3. low'],\n",
    "        'Close': daily_data['4. close'],\n",
    "        'Adjusted Close': daily_data['5. adjusted close'],\n",
    "        'Volume': daily_data['6. volume']\n",
    "    }\n",
    "    rows_list.append(row)\n",
    "\n",
    "# Convert the list of rows into a DataFrame\n",
    "new_df = pd.DataFrame(rows_list)\n",
    "\n",
    "# Convert the 'Date' column to datetime and set it as the index\n",
    "new_df['Date'] = pd.to_datetime(new_df['Date'])\n",
    "new_df.set_index('Date', inplace=True)\n",
    "\n",
    "# Sort the DataFrame by the index (Date)\n",
    "new_df.sort_index(inplace=True)\n",
    "\n",
    "# Save the DataFrame to a CSV file for future use\n",
    "new_df.to_csv('data/' + SYMBOL + '.csv')\n"
   ]
  },
  {
   "cell_type": "code",
   "execution_count": 45,
   "metadata": {},
   "outputs": [
    {
     "name": "stdout",
     "output_type": "stream",
     "text": [
      "           Date    Open    High     Low   Close  Adjusted Close   Volume\n",
      "2167 2019-02-07  313.30  314.70  303.00  307.51       20.500667  6520611\n",
      "2168 2019-02-08  306.83  307.45  298.50  305.80       20.386667  5844212\n",
      "2169 2019-02-11  311.60  318.60  310.50  312.84       20.856000  7129713\n",
      "2170 2019-02-12  316.20  318.19  309.62  311.81       20.787333  5517570\n",
      "2171 2019-02-13  312.35  312.75  305.57  308.17       20.544667  5141617\n"
     ]
    }
   ],
   "source": [
    "import pandas as pd\n",
    "\n",
    "# Load the dataset\n",
    "file_path = 'data/TSLA_stock_data.csv'\n",
    "tesla_data = pd.read_csv(file_path)\n",
    "\n",
    "# Convert the Date column to datetime type\n",
    "tesla_data['Date'] = pd.to_datetime(tesla_data['Date'])\n",
    "\n",
    "# Filter data to the last 5 years\n",
    "tesla_data = tesla_data[tesla_data['Date'] >= (tesla_data['Date'].max() - pd.DateOffset(years=5))]\n",
    "\n",
    "# Display the first few rows of the dataframe\n",
    "print(tesla_data.head())"
   ]
  },
  {
   "cell_type": "code",
   "execution_count": 46,
   "metadata": {},
   "outputs": [
    {
     "name": "stdout",
     "output_type": "stream",
     "text": [
      "           Date    Open    High     Low   Close  Adjusted Close   Volume  \\\n",
      "2168 2019-02-08  306.83  307.45  298.50  305.80       20.386667  5844212   \n",
      "2169 2019-02-11  311.60  318.60  310.50  312.84       20.856000  7129713   \n",
      "2170 2019-02-12  316.20  318.19  309.62  311.81       20.787333  5517570   \n",
      "2171 2019-02-13  312.35  312.75  305.57  308.17       20.544667  5141617   \n",
      "2172 2019-02-14  303.38  306.77  301.00  303.77       20.251333  5200832   \n",
      "\n",
      "           ROI  \n",
      "2168 -0.556079  \n",
      "2169  2.302158  \n",
      "2170 -0.329242  \n",
      "2171 -1.167378  \n",
      "2172 -1.427783  \n"
     ]
    }
   ],
   "source": [
    "# Calculate daily returns as ROI\n",
    "tesla_data['ROI'] = tesla_data['Close'].pct_change() * 100\n",
    "\n",
    "# Drop the first NA value resulted from the pct_change() calculation\n",
    "tesla_data.dropna(inplace=True)\n",
    "\n",
    "# Display the first few rows of the modified dataframe\n",
    "print(tesla_data.head())\n"
   ]
  },
  {
   "cell_type": "code",
   "execution_count": 47,
   "metadata": {},
   "outputs": [
    {
     "name": "stdout",
     "output_type": "stream",
     "text": [
      "ADF Statistic: -34.549016\n",
      "p-value: 0.000000\n",
      "Critical Values:\n",
      "\t1%: -3.436\n",
      "\t5%: -2.864\n",
      "\t10%: -2.568\n"
     ]
    }
   ],
   "source": [
    "from statsmodels.tsa.stattools import adfuller\n",
    "\n",
    "# Function to perform the ADF test\n",
    "def adf_test(series):\n",
    "    result = adfuller(series, autolag='AIC')\n",
    "    print('ADF Statistic: %f' % result[0])\n",
    "    print('p-value: %f' % result[1])\n",
    "    print('Critical Values:')\n",
    "    for key, value in result[4].items():\n",
    "        print('\\t%s: %.3f' % (key, value))\n",
    "\n",
    "# Apply ADF test on the ROI\n",
    "adf_test(tesla_data['ROI'])\n"
   ]
  },
  {
   "cell_type": "code",
   "execution_count": 48,
   "metadata": {},
   "outputs": [
    {
     "data": {
      "image/png": "[encoded data removed]",
      "text/plain": [
       "<Figure size 1600x400 with 2 Axes>"
      ]
     },
     "metadata": {},
     "output_type": "display_data"
    }
   ],
   "source": [
    "from statsmodels.graphics.tsaplots import plot_acf, plot_pacf\n",
    "import matplotlib.pyplot as plt\n",
    "\n",
    "# Plot ACF and PACF\n",
    "fig, (ax1, ax2) = plt.subplots(1, 2, figsize=(16, 4))\n",
    "plot_acf(tesla_data['ROI'], lags=20, ax=ax1)\n",
    "plot_pacf(tesla_data['ROI'], lags=20, ax=ax2)\n",
    "plt.show()\n"
   ]
  },
  {
   "cell_type": "code",
   "execution_count": 59,
   "metadata": {},
   "outputs": [
    {
     "name": "stdout",
     "output_type": "stream",
     "text": [
      "Performing stepwise search to minimize aic\n",
      " ARIMA(2,1,2)(0,0,0)[0] intercept   : AIC=13798.787, Time=0.40 sec\n",
      " ARIMA(0,1,0)(0,0,0)[0] intercept   : AIC=13792.800, Time=0.03 sec\n",
      " ARIMA(1,1,0)(0,0,0)[0] intercept   : AIC=13794.159, Time=0.05 sec\n",
      " ARIMA(0,1,1)(0,0,0)[0] intercept   : AIC=13794.129, Time=0.14 sec\n",
      " ARIMA(0,1,0)(0,0,0)[0]             : AIC=13790.803, Time=0.03 sec\n",
      " ARIMA(1,1,1)(0,0,0)[0] intercept   : AIC=13794.853, Time=0.27 sec\n",
      "\n",
      "Best model:  ARIMA(0,1,0)(0,0,0)[0]          \n",
      "Total fit time: 0.926 seconds\n",
      "                               SARIMAX Results                                \n",
      "==============================================================================\n",
      "Dep. Variable:                      y   No. Observations:                 1258\n",
      "Model:               SARIMAX(0, 1, 0)   Log Likelihood               -6894.402\n",
      "Date:                Wed, 14 Feb 2024   AIC                          13790.803\n",
      "Time:                        19:38:14   BIC                          13795.940\n",
      "Sample:                             0   HQIC                         13792.734\n",
      "                               - 1258                                         \n",
      "Covariance Type:                  opg                                         \n",
      "==============================================================================\n",
      "                 coef    std err          z      P>|z|      [0.025      0.975]\n",
      "------------------------------------------------------------------------------\n",
      "sigma2      3400.6982      7.809    435.480      0.000    3385.393    3416.004\n",
      "===================================================================================\n",
      "Ljung-Box (L1) (Q):                   0.64   Jarque-Bera (JB):          19031733.08\n",
      "Prob(Q):                              0.42   Prob(JB):                         0.00\n",
      "Heteroskedasticity (H):               0.12   Skew:                           -20.97\n",
      "Prob(H) (two-sided):                  0.00   Kurtosis:                       604.34\n",
      "===================================================================================\n",
      "\n",
      "Warnings:\n",
      "[1] Covariance matrix calculated using the outer product of gradients (complex-step).\n"
     ]
    }
   ],
   "source": [
    "from pmdarima import auto_arima\n",
    "\n",
    "# Fit the AutoARIMA model\n",
    "auto_model = auto_arima(tesla_data['Close'], seasonal=False, trace=True, error_action='ignore', suppress_warnings=True)\n",
    "\n",
    "# Print out the summary of the model\n",
    "print(auto_model.summary())"
   ]
  },
  {
   "cell_type": "code",
   "execution_count": 62,
   "metadata": {},
   "outputs": [
    {
     "name": "stdout",
     "output_type": "stream",
     "text": [
      "1258    187.58\n",
      "1259    187.58\n",
      "1260    187.58\n",
      "1261    187.58\n",
      "1262    187.58\n",
      "1263    187.58\n",
      "1264    187.58\n",
      "1265    187.58\n",
      "1266    187.58\n",
      "1267    187.58\n",
      "1268    187.58\n",
      "1269    187.58\n",
      "1270    187.58\n",
      "1271    187.58\n",
      "1272    187.58\n",
      "1273    187.58\n",
      "1274    187.58\n",
      "1275    187.58\n",
      "1276    187.58\n",
      "1277    187.58\n",
      "1278    187.58\n",
      "1279    187.58\n",
      "1280    187.58\n",
      "1281    187.58\n",
      "1282    187.58\n",
      "1283    187.58\n",
      "1284    187.58\n",
      "1285    187.58\n",
      "1286    187.58\n",
      "1287    187.58\n",
      "dtype: float64\n"
     ]
    },
    {
     "name": "stderr",
     "output_type": "stream",
     "text": [
      "/Library/Frameworks/Python.framework/Versions/3.10/lib/python3.10/site-packages/statsmodels/tsa/base/tsa_model.py:836: ValueWarning: No supported index is available. Prediction results will be given with an integer index beginning at `start`.\n",
      "  return get_prediction_index(\n",
      "/Library/Frameworks/Python.framework/Versions/3.10/lib/python3.10/site-packages/statsmodels/tsa/base/tsa_model.py:836: FutureWarning: No supported index is available. In the next version, calling this method in a model without a supported index will result in an exception.\n",
      "  return get_prediction_index(\n"
     ]
    }
   ],
   "source": [
    "# Forecast the next 30 days with auto ARIMA\n",
    "forecast = auto_model.predict(n_periods=30)\n",
    "\n",
    "# Output the forecast to check\n",
    "print(forecast)\n"
   ]
  },
  {
   "cell_type": "code",
   "execution_count": 63,
   "metadata": {},
   "outputs": [
    {
     "name": "stderr",
     "output_type": "stream",
     "text": [
      "/var/folders/_d/n8yc91k902q2msrhx_h0b_bh0000gn/T/ipykernel_78692/4163358392.py:2: FutureWarning: Argument `closed` is deprecated in favor of `inclusive`.\n",
      "  forecast_dates = pd.date_range(start=tesla_data['Date'].iloc[-1], periods=31, closed='right')[1:] # start the forecast from the next day\n"
     ]
    },
    {
     "ename": "ValueError",
     "evalue": "x and y must have same first dimension, but have shapes (29,) and (30,)",
     "output_type": "error",
     "traceback": [
      "\u001b[0;31m---------------------------------------------------------------------------\u001b[0m",
      "\u001b[0;31mValueError\u001b[0m                                Traceback (most recent call last)",
      "Cell \u001b[0;32mIn[63], line 11\u001b[0m\n\u001b[1;32m      8\u001b[0m plt\u001b[38;5;241m.\u001b[39mplot(historical_dates, historical_prices, label\u001b[38;5;241m=\u001b[39m\u001b[38;5;124m'\u001b[39m\u001b[38;5;124mHistorical Close Price\u001b[39m\u001b[38;5;124m'\u001b[39m)\n\u001b[1;32m     10\u001b[0m \u001b[38;5;66;03m# Plot the forecasted stock prices\u001b[39;00m\n\u001b[0;32m---> 11\u001b[0m \u001b[43mplt\u001b[49m\u001b[38;5;241;43m.\u001b[39;49m\u001b[43mplot\u001b[49m\u001b[43m(\u001b[49m\u001b[43mforecast_dates\u001b[49m\u001b[43m,\u001b[49m\u001b[43m \u001b[49m\u001b[43mforecast\u001b[49m\u001b[43m,\u001b[49m\u001b[43m \u001b[49m\u001b[43mlabel\u001b[49m\u001b[38;5;241;43m=\u001b[39;49m\u001b[38;5;124;43m'\u001b[39;49m\u001b[38;5;124;43mForecasted Close Price\u001b[39;49m\u001b[38;5;124;43m'\u001b[39;49m\u001b[43m,\u001b[49m\u001b[43m \u001b[49m\u001b[43mcolor\u001b[49m\u001b[38;5;241;43m=\u001b[39;49m\u001b[38;5;124;43m'\u001b[39;49m\u001b[38;5;124;43mred\u001b[39;49m\u001b[38;5;124;43m'\u001b[39;49m\u001b[43m)\u001b[49m  \u001b[38;5;66;03m# Directly plot the forecast\u001b[39;00m\n\u001b[1;32m     13\u001b[0m \u001b[38;5;66;03m# Finalize the plot\u001b[39;00m\n\u001b[1;32m     14\u001b[0m plt\u001b[38;5;241m.\u001b[39mxlabel(\u001b[38;5;124m'\u001b[39m\u001b[38;5;124mDate\u001b[39m\u001b[38;5;124m'\u001b[39m)\n",
      "File \u001b[0;32m/Library/Frameworks/Python.framework/Versions/3.10/lib/python3.10/site-packages/matplotlib/pyplot.py:3575\u001b[0m, in \u001b[0;36mplot\u001b[0;34m(scalex, scaley, data, *args, **kwargs)\u001b[0m\n\u001b[1;32m   <a href='file:///Library/Frameworks/Python.framework/Versions/3.10/lib/python3.10/site-packages/matplotlib/pyplot.py?line=3566'>3567</a>\u001b[0m \u001b[39m@_copy_docstring_and_deprecators\u001b[39m(Axes\u001b[39m.\u001b[39mplot)\n\u001b[1;32m   <a href='file:///Library/Frameworks/Python.framework/Versions/3.10/lib/python3.10/site-packages/matplotlib/pyplot.py?line=3567'>3568</a>\u001b[0m \u001b[39mdef\u001b[39;00m \u001b[39mplot\u001b[39m(\n\u001b[1;32m   <a href='file:///Library/Frameworks/Python.framework/Versions/3.10/lib/python3.10/site-packages/matplotlib/pyplot.py?line=3568'>3569</a>\u001b[0m     \u001b[39m*\u001b[39margs: \u001b[39mfloat\u001b[39m \u001b[39m|\u001b[39m ArrayLike \u001b[39m|\u001b[39m \u001b[39mstr\u001b[39m,\n\u001b[0;32m   (...)\u001b[0m\n\u001b[1;32m   <a href='file:///Library/Frameworks/Python.framework/Versions/3.10/lib/python3.10/site-packages/matplotlib/pyplot.py?line=3572'>3573</a>\u001b[0m     \u001b[39m*\u001b[39m\u001b[39m*\u001b[39mkwargs,\n\u001b[1;32m   <a href='file:///Library/Frameworks/Python.framework/Versions/3.10/lib/python3.10/site-packages/matplotlib/pyplot.py?line=3573'>3574</a>\u001b[0m ) \u001b[39m-\u001b[39m\u001b[39m>\u001b[39m \u001b[39mlist\u001b[39m[Line2D]:\n\u001b[0;32m-> <a href='file:///Library/Frameworks/Python.framework/Versions/3.10/lib/python3.10/site-packages/matplotlib/pyplot.py?line=3574'>3575</a>\u001b[0m     \u001b[39mreturn\u001b[39;00m gca()\u001b[39m.\u001b[39;49mplot(\n\u001b[1;32m   <a href='file:///Library/Frameworks/Python.framework/Versions/3.10/lib/python3.10/site-packages/matplotlib/pyplot.py?line=3575'>3576</a>\u001b[0m         \u001b[39m*\u001b[39;49margs,\n\u001b[1;32m   <a href='file:///Library/Frameworks/Python.framework/Versions/3.10/lib/python3.10/site-packages/matplotlib/pyplot.py?line=3576'>3577</a>\u001b[0m         scalex\u001b[39m=\u001b[39;49mscalex,\n\u001b[1;32m   <a href='file:///Library/Frameworks/Python.framework/Versions/3.10/lib/python3.10/site-packages/matplotlib/pyplot.py?line=3577'>3578</a>\u001b[0m         scaley\u001b[39m=\u001b[39;49mscaley,\n\u001b[1;32m   <a href='file:///Library/Frameworks/Python.framework/Versions/3.10/lib/python3.10/site-packages/matplotlib/pyplot.py?line=3578'>3579</a>\u001b[0m         \u001b[39m*\u001b[39;49m\u001b[39m*\u001b[39;49m({\u001b[39m\"\u001b[39;49m\u001b[39mdata\u001b[39;49m\u001b[39m\"\u001b[39;49m: data} \u001b[39mif\u001b[39;49;00m data \u001b[39mis\u001b[39;49;00m \u001b[39mnot\u001b[39;49;00m \u001b[39mNone\u001b[39;49;00m \u001b[39melse\u001b[39;49;00m {}),\n\u001b[1;32m   <a href='file:///Library/Frameworks/Python.framework/Versions/3.10/lib/python3.10/site-packages/matplotlib/pyplot.py?line=3579'>3580</a>\u001b[0m         \u001b[39m*\u001b[39;49m\u001b[39m*\u001b[39;49mkwargs,\n\u001b[1;32m   <a href='file:///Library/Frameworks/Python.framework/Versions/3.10/lib/python3.10/site-packages/matplotlib/pyplot.py?line=3580'>3581</a>\u001b[0m     )\n",
      "File \u001b[0;32m/Library/Frameworks/Python.framework/Versions/3.10/lib/python3.10/site-packages/matplotlib/axes/_axes.py:1721\u001b[0m, in \u001b[0;36mAxes.plot\u001b[0;34m(self, scalex, scaley, data, *args, **kwargs)\u001b[0m\n\u001b[1;32m   <a href='file:///Library/Frameworks/Python.framework/Versions/3.10/lib/python3.10/site-packages/matplotlib/axes/_axes.py?line=1477'>1478</a>\u001b[0m \u001b[39m\u001b[39m\u001b[39m\"\"\"\u001b[39;00m\n\u001b[1;32m   <a href='file:///Library/Frameworks/Python.framework/Versions/3.10/lib/python3.10/site-packages/matplotlib/axes/_axes.py?line=1478'>1479</a>\u001b[0m \u001b[39mPlot y versus x as lines and/or markers.\u001b[39;00m\n\u001b[1;32m   <a href='file:///Library/Frameworks/Python.framework/Versions/3.10/lib/python3.10/site-packages/matplotlib/axes/_axes.py?line=1479'>1480</a>\u001b[0m \n\u001b[0;32m   (...)\u001b[0m\n\u001b[1;32m   <a href='file:///Library/Frameworks/Python.framework/Versions/3.10/lib/python3.10/site-packages/matplotlib/axes/_axes.py?line=1717'>1718</a>\u001b[0m \u001b[39m(``'green'``) or hex strings (``'#008000'``).\u001b[39;00m\n\u001b[1;32m   <a href='file:///Library/Frameworks/Python.framework/Versions/3.10/lib/python3.10/site-packages/matplotlib/axes/_axes.py?line=1718'>1719</a>\u001b[0m \u001b[39m\"\"\"\u001b[39;00m\n\u001b[1;32m   <a href='file:///Library/Frameworks/Python.framework/Versions/3.10/lib/python3.10/site-packages/matplotlib/axes/_axes.py?line=1719'>1720</a>\u001b[0m kwargs \u001b[39m=\u001b[39m cbook\u001b[39m.\u001b[39mnormalize_kwargs(kwargs, mlines\u001b[39m.\u001b[39mLine2D)\n\u001b[0;32m-> <a href='file:///Library/Frameworks/Python.framework/Versions/3.10/lib/python3.10/site-packages/matplotlib/axes/_axes.py?line=1720'>1721</a>\u001b[0m lines \u001b[39m=\u001b[39m [\u001b[39m*\u001b[39m\u001b[39mself\u001b[39m\u001b[39m.\u001b[39m_get_lines(\u001b[39mself\u001b[39m, \u001b[39m*\u001b[39margs, data\u001b[39m=\u001b[39mdata, \u001b[39m*\u001b[39m\u001b[39m*\u001b[39mkwargs)]\n\u001b[1;32m   <a href='file:///Library/Frameworks/Python.framework/Versions/3.10/lib/python3.10/site-packages/matplotlib/axes/_axes.py?line=1721'>1722</a>\u001b[0m \u001b[39mfor\u001b[39;00m line \u001b[39min\u001b[39;00m lines:\n\u001b[1;32m   <a href='file:///Library/Frameworks/Python.framework/Versions/3.10/lib/python3.10/site-packages/matplotlib/axes/_axes.py?line=1722'>1723</a>\u001b[0m     \u001b[39mself\u001b[39m\u001b[39m.\u001b[39madd_line(line)\n",
      "File \u001b[0;32m/Library/Frameworks/Python.framework/Versions/3.10/lib/python3.10/site-packages/matplotlib/axes/_base.py:303\u001b[0m, in \u001b[0;36m_process_plot_var_args.__call__\u001b[0;34m(self, axes, data, *args, **kwargs)\u001b[0m\n\u001b[1;32m    <a href='file:///Library/Frameworks/Python.framework/Versions/3.10/lib/python3.10/site-packages/matplotlib/axes/_base.py?line=300'>301</a>\u001b[0m     this \u001b[39m+\u001b[39m\u001b[39m=\u001b[39m args[\u001b[39m0\u001b[39m],\n\u001b[1;32m    <a href='file:///Library/Frameworks/Python.framework/Versions/3.10/lib/python3.10/site-packages/matplotlib/axes/_base.py?line=301'>302</a>\u001b[0m     args \u001b[39m=\u001b[39m args[\u001b[39m1\u001b[39m:]\n\u001b[0;32m--> <a href='file:///Library/Frameworks/Python.framework/Versions/3.10/lib/python3.10/site-packages/matplotlib/axes/_base.py?line=302'>303</a>\u001b[0m \u001b[39myield from\u001b[39;00m \u001b[39mself\u001b[39;49m\u001b[39m.\u001b[39;49m_plot_args(\n\u001b[1;32m    <a href='file:///Library/Frameworks/Python.framework/Versions/3.10/lib/python3.10/site-packages/matplotlib/axes/_base.py?line=303'>304</a>\u001b[0m     axes, this, kwargs, ambiguous_fmt_datakey\u001b[39m=\u001b[39;49mambiguous_fmt_datakey)\n",
      "File \u001b[0;32m/Library/Frameworks/Python.framework/Versions/3.10/lib/python3.10/site-packages/matplotlib/axes/_base.py:499\u001b[0m, in \u001b[0;36m_process_plot_var_args._plot_args\u001b[0;34m(self, axes, tup, kwargs, return_kwargs, ambiguous_fmt_datakey)\u001b[0m\n\u001b[1;32m    <a href='file:///Library/Frameworks/Python.framework/Versions/3.10/lib/python3.10/site-packages/matplotlib/axes/_base.py?line=495'>496</a>\u001b[0m     axes\u001b[39m.\u001b[39myaxis\u001b[39m.\u001b[39mupdate_units(y)\n\u001b[1;32m    <a href='file:///Library/Frameworks/Python.framework/Versions/3.10/lib/python3.10/site-packages/matplotlib/axes/_base.py?line=497'>498</a>\u001b[0m \u001b[39mif\u001b[39;00m x\u001b[39m.\u001b[39mshape[\u001b[39m0\u001b[39m] \u001b[39m!=\u001b[39m y\u001b[39m.\u001b[39mshape[\u001b[39m0\u001b[39m]:\n\u001b[0;32m--> <a href='file:///Library/Frameworks/Python.framework/Versions/3.10/lib/python3.10/site-packages/matplotlib/axes/_base.py?line=498'>499</a>\u001b[0m     \u001b[39mraise\u001b[39;00m \u001b[39mValueError\u001b[39;00m(\u001b[39mf\u001b[39m\u001b[39m\"\u001b[39m\u001b[39mx and y must have same first dimension, but \u001b[39m\u001b[39m\"\u001b[39m\n\u001b[1;32m    <a href='file:///Library/Frameworks/Python.framework/Versions/3.10/lib/python3.10/site-packages/matplotlib/axes/_base.py?line=499'>500</a>\u001b[0m                      \u001b[39mf\u001b[39m\u001b[39m\"\u001b[39m\u001b[39mhave shapes \u001b[39m\u001b[39m{\u001b[39;00mx\u001b[39m.\u001b[39mshape\u001b[39m}\u001b[39;00m\u001b[39m and \u001b[39m\u001b[39m{\u001b[39;00my\u001b[39m.\u001b[39mshape\u001b[39m}\u001b[39;00m\u001b[39m\"\u001b[39m)\n\u001b[1;32m    <a href='file:///Library/Frameworks/Python.framework/Versions/3.10/lib/python3.10/site-packages/matplotlib/axes/_base.py?line=500'>501</a>\u001b[0m \u001b[39mif\u001b[39;00m x\u001b[39m.\u001b[39mndim \u001b[39m>\u001b[39m \u001b[39m2\u001b[39m \u001b[39mor\u001b[39;00m y\u001b[39m.\u001b[39mndim \u001b[39m>\u001b[39m \u001b[39m2\u001b[39m:\n\u001b[1;32m    <a href='file:///Library/Frameworks/Python.framework/Versions/3.10/lib/python3.10/site-packages/matplotlib/axes/_base.py?line=501'>502</a>\u001b[0m     \u001b[39mraise\u001b[39;00m \u001b[39mValueError\u001b[39;00m(\u001b[39mf\u001b[39m\u001b[39m\"\u001b[39m\u001b[39mx and y can be no greater than 2D, but have \u001b[39m\u001b[39m\"\u001b[39m\n\u001b[1;32m    <a href='file:///Library/Frameworks/Python.framework/Versions/3.10/lib/python3.10/site-packages/matplotlib/axes/_base.py?line=502'>503</a>\u001b[0m                      \u001b[39mf\u001b[39m\u001b[39m\"\u001b[39m\u001b[39mshapes \u001b[39m\u001b[39m{\u001b[39;00mx\u001b[39m.\u001b[39mshape\u001b[39m}\u001b[39;00m\u001b[39m and \u001b[39m\u001b[39m{\u001b[39;00my\u001b[39m.\u001b[39mshape\u001b[39m}\u001b[39;00m\u001b[39m\"\u001b[39m)\n",
      "\u001b[0;31mValueError\u001b[0m: x and y must have same first dimension, but have shapes (29,) and (30,)"
     ]
    },
    {
     "data": {
      "image/png": "[encoded data removed]",
      "text/plain": [
       "<Figure size 1200x600 with 1 Axes>"
      ]
     },
     "metadata": {},
     "output_type": "display_data"
    }
   ],
   "source": [
    "# Prepare the dates for the forecasted range\n",
    "forecast_dates = pd.date_range(start=tesla_data['Date'].iloc[-1], periods=31, closed='right')[1:] # start the forecast from the next day\n",
    "\n",
    "# Plot the historical stock prices for the last 5 years\n",
    "plt.figure(figsize=(12, 6))\n",
    "historical_dates = tesla_data['Date']\n",
    "historical_prices = tesla_data['Close']\n",
    "plt.plot(historical_dates, historical_prices, label='Historical Close Price')\n",
    "\n",
    "# Plot the forecasted stock prices\n",
    "plt.plot(forecast_dates, forecast, label='Forecasted Close Price', color='red')  # Directly plot the forecast\n",
    "\n",
    "# Finalize the plot\n",
    "plt.xlabel('Date')\n",
    "plt.ylabel('Stock Price')\n",
    "plt.title('TESLA Stock Price Forecast')\n",
    "plt.legend()\n",
    "plt.xticks(rotation=45)\n",
    "plt.tight_layout()\n",
    "plt.show()\n"
   ]
  },
  {
   "cell_type": "markdown",
   "metadata": {},
   "source": [
    "### Update Once a Day"
   ]
  },
  {
   "cell_type": "code",
   "execution_count": 97,
   "metadata": {},
   "outputs": [
    {
     "name": "stdout",
     "output_type": "stream",
     "text": [
      "{'MarketCapitalization': '3019136303000', 'PERatio': '36.74', 'EPS': '11.06', 'ROE': '0.392'}\n"
     ]
    }
   ],
   "source": [
    "import requests\n",
    "\n",
    "def get_company_overview(ticker):\n",
    "    API_KEY = 'QC6PHJMTIZHC8S6B'  # Replace with your actual AlphaVantage API key\n",
    "    url = f'https://www.alphavantage.co/query?function=OVERVIEW&symbol={ticker}&apikey={API_KEY}'\n",
    "    \n",
    "    try:\n",
    "        response = requests.get(url)\n",
    "        response.raise_for_status()  # Raise an HTTPError if the HTTP request returned an unsuccessful status code\n",
    "        data = response.json()\n",
    "        \n",
    "        if 'Error Message' in data:\n",
    "            return f\"Error fetching data for {ticker}: {data['Error Message']}\"\n",
    "        \n",
    "        # Extract the relevant information\n",
    "        overview_data = {\n",
    "            'MarketCapitalization': data.get('MarketCapitalization'),\n",
    "            'PERatio': data.get('PERatio'),\n",
    "            'EPS': data.get('EPS'),\n",
    "            'ROE': data.get('ReturnOnEquityTTM'),\n",
    "        }\n",
    "        \n",
    "        return overview_data\n",
    "    \n",
    "    except requests.exceptions.HTTPError as http_err:\n",
    "        return f\"HTTP error occurred: {http_err}\"\n",
    "    except Exception as err:\n",
    "        return f\"An error occurred: {err}\"\n",
    "\n",
    "# Example usage:\n",
    "ticker = 'MSFT'  # Replace with the ticker you want to query\n",
    "company_overview = get_company_overview(ticker)\n",
    "print(company_overview)\n",
    "\n"
   ]
  },
  {
   "cell_type": "markdown",
   "metadata": {},
   "source": [
    "### Store Once"
   ]
  },
  {
   "cell_type": "code",
   "execution_count": 96,
   "metadata": {},
   "outputs": [
    {
     "name": "stdout",
     "output_type": "stream",
     "text": [
      "No data found for ticker: ATVI\n"
     ]
    }
   ],
   "source": [
    "import requests\n",
    "\n",
    "def get_static_company_info(ticker):\n",
    "    API_KEY = 'QC6PHJMTIZHC8S6B'  # Replace with your actual AlphaVantage API key\n",
    "    url = f'https://www.alphavantage.co/query?function=OVERVIEW&symbol={ticker}&apikey={API_KEY}'\n",
    "    \n",
    "    response = requests.get(url)\n",
    "    data = response.json()\n",
    "    \n",
    "    # Check if the response contains company information\n",
    "    if not data:\n",
    "        return f\"No data found for ticker: {ticker}\"\n",
    "\n",
    "    # Extract the static information\n",
    "    static_info = {\n",
    "        'Symbol': ticker,\n",
    "        'Name': data.get('Name'),\n",
    "        'Exchange': data.get('Exchange'),\n",
    "        'Currency': data.get('Currency'),\n",
    "        'Country': data.get('Country'),\n",
    "        'Address': data.get('Address'),\n",
    "        'Description': data.get('Description'),\n",
    "        'Sector': data.get('Sector'),\n",
    "        'Industry': data.get('Industry')\n",
    "    }\n",
    "    \n",
    "    return static_info\n",
    "\n",
    "# Example usage:\n",
    "ticker = 'ATVI'  # Replace with the ticker you want to query\n",
    "company_static_info = get_static_company_info(ticker)\n",
    "print(company_static_info)\n"
   ]
  },
  {
   "cell_type": "markdown",
   "metadata": {},
   "source": [
    "### Historical Stock Prices"
   ]
  },
  {
   "cell_type": "code",
   "execution_count": 77,
   "metadata": {},
   "outputs": [
    {
     "name": "stdout",
     "output_type": "stream",
     "text": [
      "Historical data saved to: data/AAPL_historical_prices.csv\n"
     ]
    }
   ],
   "source": [
    "import requests\n",
    "import pandas as pd\n",
    "from datetime import datetime\n",
    "import os\n",
    "\n",
    "def save_historical_stock_prices(ticker, api_key, data_directory='data'):\n",
    "    url = f'https://www.alphavantage.co/query?function=TIME_SERIES_DAILY_ADJUSTED&symbol={ticker}&outputsize=full&apikey={api_key}'\n",
    "\n",
    "    response = requests.get(url)\n",
    "    data = response.json()\n",
    "\n",
    "    # Initialize an empty DataFrame\n",
    "    prices_df = pd.DataFrame()\n",
    "\n",
    "    if 'Time Series (Daily)' in data:\n",
    "        # Parse and process historical stock prices\n",
    "        time_series_data = data['Time Series (Daily)']\n",
    "        rows_list = []  # Use a list to store the data temporarily\n",
    "\n",
    "        for date, daily_data in time_series_data.items():\n",
    "            # Only include data within the last 10 years\n",
    "            if datetime.strptime(date, '%Y-%m-%d') >= datetime.now() - pd.DateOffset(years=10):\n",
    "                rows_list.append({\n",
    "                    'Date': date,\n",
    "                    'Open': daily_data['1. open'],\n",
    "                    'High': daily_data['2. high'],\n",
    "                    'Low': daily_data['3. low'],\n",
    "                    'Close': daily_data['4. close'],\n",
    "                    'Adjusted Close': daily_data['5. adjusted close'],\n",
    "                    'Volume': daily_data['6. volume']\n",
    "                })\n",
    "\n",
    "        # Convert the list of dictionaries to a DataFrame\n",
    "        prices_df = pd.DataFrame(rows_list)\n",
    "\n",
    "        # Convert the 'Date' column to datetime\n",
    "        prices_df['Date'] = pd.to_datetime(prices_df['Date'])\n",
    "\n",
    "        # Sort the DataFrame by the 'Date' column\n",
    "        prices_df.sort_values('Date', inplace=True)\n",
    "\n",
    "        # Check if the data directory exists, create it if not\n",
    "        if not os.path.exists(data_directory):\n",
    "            os.makedirs(data_directory)\n",
    "\n",
    "        # Save the DataFrame to a CSV file in the specified directory\n",
    "        csv_file_path = os.path.join(data_directory, f'{ticker}_historical_prices.csv')\n",
    "        prices_df.to_csv(csv_file_path, index=False)\n",
    "\n",
    "        return csv_file_path\n",
    "    else:\n",
    "        return \"Failed to fetch data. Check the API key and symbol.\"\n",
    "\n",
    "# Example usage:\n",
    "api_key = 'QC6PHJMTIZHC8S6B'  # Replace with your actual AlphaVantage API key\n",
    "ticker = 'AAPL'  # Replace with the ticker you want to query\n",
    "historical_data_file_path = save_historical_stock_prices(ticker, api_key)\n",
    "print(f\"Historical data saved to: {historical_data_file_path}\")"
   ]
  },
  {
   "cell_type": "markdown",
   "metadata": {},
   "source": [
    "### Current stock price and volume of trade"
   ]
  },
  {
   "cell_type": "code",
   "execution_count": 98,
   "metadata": {},
   "outputs": [
    {
     "name": "stdout",
     "output_type": "stream",
     "text": [
      "{'Current Price': '409.4900', 'Current Volume': '20401190'}\n"
     ]
    }
   ],
   "source": [
    "import requests\n",
    "\n",
    "def get_current_stock_price_and_volume(ticker, api_key):\n",
    "    url = f\"https://www.alphavantage.co/query?function=GLOBAL_QUOTE&symbol={ticker}&apikey={api_key}\"\n",
    "    \n",
    "    response = requests.get(url)\n",
    "    data = response.json()\n",
    "    \n",
    "    if \"Global Quote\" in data:\n",
    "        global_quote = data[\"Global Quote\"]\n",
    "        current_price = global_quote.get(\"05. price\")\n",
    "        current_volume = global_quote.get(\"06. volume\")\n",
    "        \n",
    "        return {\n",
    "            \"Current Price\": current_price,\n",
    "            \"Current Volume\": current_volume\n",
    "        }\n",
    "    else:\n",
    "        return \"Failed to fetch data. Check the API key and symbol.\"\n",
    "\n",
    "# Example usage:\n",
    "api_key = 'QC6PHJMTIZHC8S6B'  # Replace with your actual AlphaVantage API key\n",
    "ticker = 'MSFT'  # Replace with the ticker you want to query\n",
    "stock_info = get_current_stock_price_and_volume(ticker, api_key)\n",
    "print(stock_info)\n"
   ]
  },
  {
   "cell_type": "code",
   "execution_count": 93,
   "metadata": {},
   "outputs": [
    {
     "data": {
      "text/plain": [
       "'MMM'"
      ]
     },
     "execution_count": 93,
     "metadata": {},
     "output_type": "execute_result"
    }
   ],
   "source": [
    "import pandas as pd\n",
    "\n",
    "df = pd.read_csv(\"data/SP_500.csv\")\n",
    "\n",
    "tickers = df[\"Symbol\"].unique()\n",
    "\n",
    "tickers = tickers[:5]\n",
    "\n",
    "tickers[0]\n",
    "\n"
   ]
  },
  {
   "cell_type": "code",
   "execution_count": null,
   "metadata": {},
   "outputs": [],
   "source": []
  }
 ],
 "metadata": {
  "interpreter": {
   "hash": "aee8b7b246df8f9039afb4144a1f6fd8d2ca17a180786b69acc140d282b71a49"
  },
  "kernelspec": {
   "display_name": "Python 3.10.4 64-bit",
   "language": "python",
   "name": "python3"
  },
  "language_info": {
   "codemirror_mode": {
    "name": "ipython",
    "version": 3
   },
   "file_extension": ".py",
   "mimetype": "text/x-python",
   "name": "python",
   "nbconvert_exporter": "python",
   "pygments_lexer": "ipython3",
   "version": "3.10.4"
  },
  "orig_nbformat": 4
 },
 "nbformat": 4,
 "nbformat_minor": 2
}
